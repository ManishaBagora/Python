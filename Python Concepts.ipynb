{
 "cells": [
  {
   "cell_type": "markdown",
   "id": "8e07d201",
   "metadata": {},
   "source": [
    "# Cleaning and preprocessing data"
   ]
  },
  {
   "cell_type": "markdown",
   "id": "43a1bd74",
   "metadata": {},
   "source": [
    "Cleaning and Pre-processing data are essential steps in data analysis or machine leaning workflows. Here's a guide on how to handle these task effectively in Python"
   ]
  },
  {
   "cell_type": "markdown",
   "id": "351d693f",
   "metadata": {},
   "source": [
    "Import Necessary Libraries"
   ]
  },
  {
   "cell_type": "code",
   "execution_count": 1,
   "id": "506b0c25",
   "metadata": {},
   "outputs": [],
   "source": [
    "import pandas as pd\n",
    "import numpy as np"
   ]
  },
  {
   "cell_type": "markdown",
   "id": "aff00187",
   "metadata": {},
   "source": [
    "Load your dataset"
   ]
  },
  {
   "cell_type": "code",
   "execution_count": 4,
   "id": "adc3191d",
   "metadata": {},
   "outputs": [],
   "source": [
    "#Example: Load a csv file into a pandas dataframe\n",
    "df=pd.read_csv('cars.csv')"
   ]
  },
  {
   "cell_type": "markdown",
   "id": "97680777",
   "metadata": {},
   "source": [
    "Inspect the Data"
   ]
  },
  {
   "cell_type": "markdown",
   "id": "60462002",
   "metadata": {},
   "source": [
    "Understand the struture and issues in datasets:"
   ]
  },
  {
   "cell_type": "code",
   "execution_count": 5,
   "id": "205e1bc2",
   "metadata": {},
   "outputs": [
    {
     "name": "stdout",
     "output_type": "stream",
     "text": [
      "    mpg  cylinders  displacement  horsepower  weight  acceleration  \\\n",
      "0  18.0          8         307.0       130.0    3504          12.0   \n",
      "1  15.0          8         350.0       165.0    3693          11.5   \n",
      "2  18.0          8         318.0       150.0    3436          11.0   \n",
      "3  16.0          8         304.0       150.0    3433          12.0   \n",
      "4  17.0          8         302.0       140.0    3449          10.5   \n",
      "\n",
      "   model_year origin                       name  \n",
      "0          70    usa  chevrolet chevelle malibu  \n",
      "1          70    usa          buick skylark 320  \n",
      "2          70    usa         plymouth satellite  \n",
      "3          70    usa              amc rebel sst  \n",
      "4          70    usa                ford torino  \n"
     ]
    }
   ],
   "source": [
    "#View the first fe rows\n",
    "print(df.head())"
   ]
  },
  {
   "cell_type": "code",
   "execution_count": 7,
   "id": "7c3f0eab",
   "metadata": {},
   "outputs": [
    {
     "name": "stdout",
     "output_type": "stream",
     "text": [
      "mpg             0\n",
      "cylinders       0\n",
      "displacement    0\n",
      "horsepower      6\n",
      "weight          0\n",
      "acceleration    0\n",
      "model_year      0\n",
      "origin          0\n",
      "name            0\n",
      "dtype: int64\n"
     ]
    }
   ],
   "source": [
    "#Check for missing values\n",
    "print(df.isnull().sum())"
   ]
  },
  {
   "cell_type": "code",
   "execution_count": 9,
   "id": "e18d6a2b",
   "metadata": {},
   "outputs": [
    {
     "name": "stdout",
     "output_type": "stream",
     "text": [
      "<class 'pandas.core.frame.DataFrame'>\n",
      "RangeIndex: 398 entries, 0 to 397\n",
      "Data columns (total 9 columns):\n",
      " #   Column        Non-Null Count  Dtype  \n",
      "---  ------        --------------  -----  \n",
      " 0   mpg           398 non-null    float64\n",
      " 1   cylinders     398 non-null    int64  \n",
      " 2   displacement  398 non-null    float64\n",
      " 3   horsepower    392 non-null    float64\n",
      " 4   weight        398 non-null    int64  \n",
      " 5   acceleration  398 non-null    float64\n",
      " 6   model_year    398 non-null    int64  \n",
      " 7   origin        398 non-null    object \n",
      " 8   name          398 non-null    object \n",
      "dtypes: float64(4), int64(3), object(2)\n",
      "memory usage: 28.1+ KB\n",
      "None\n",
      "              mpg   cylinders  displacement  horsepower       weight  \\\n",
      "count  398.000000  398.000000    398.000000  392.000000   398.000000   \n",
      "mean    23.514573    5.454774    193.425879  104.469388  2970.424623   \n",
      "std      7.815984    1.701004    104.269838   38.491160   846.841774   \n",
      "min      9.000000    3.000000     68.000000   46.000000  1613.000000   \n",
      "25%     17.500000    4.000000    104.250000   75.000000  2223.750000   \n",
      "50%     23.000000    4.000000    148.500000   93.500000  2803.500000   \n",
      "75%     29.000000    8.000000    262.000000  126.000000  3608.000000   \n",
      "max     46.600000    8.000000    455.000000  230.000000  5140.000000   \n",
      "\n",
      "       acceleration  model_year  \n",
      "count    398.000000  398.000000  \n",
      "mean      15.568090   76.010050  \n",
      "std        2.757689    3.697627  \n",
      "min        8.000000   70.000000  \n",
      "25%       13.825000   73.000000  \n",
      "50%       15.500000   76.000000  \n",
      "75%       17.175000   79.000000  \n",
      "max       24.800000   82.000000  \n"
     ]
    }
   ],
   "source": [
    "#Get data types and summary statistics\n",
    "print(df.info())\n",
    "print(df.describe())"
   ]
  },
  {
   "cell_type": "markdown",
   "id": "7b690ecf",
   "metadata": {},
   "source": [
    "#Handling missing values\n",
    "--Drop rows/columns"
   ]
  },
  {
   "cell_type": "code",
   "execution_count": 11,
   "id": "5ae2ee97",
   "metadata": {},
   "outputs": [],
   "source": [
    "#Drop rows with missing values\n",
    "df=df.dropna()"
   ]
  },
  {
   "cell_type": "code",
   "execution_count": 12,
   "id": "b28b6b57",
   "metadata": {},
   "outputs": [],
   "source": [
    "#Drop columns with missing values\n",
    "df=df.dropna(axis=1)"
   ]
  },
  {
   "cell_type": "code",
   "execution_count": 13,
   "id": "84ae8d10",
   "metadata": {},
   "outputs": [],
   "source": [
    "#Impute missing values:\n",
    "# Fill missing values with a specific value\n",
    "df['mpg'].fillna(0,inplace=True)"
   ]
  },
  {
   "cell_type": "code",
   "execution_count": 14,
   "id": "9d7b6a9d",
   "metadata": {},
   "outputs": [],
   "source": [
    "#fill with the mean/median/mode\n",
    "#df['column_name'].fillna(df['name'].mean(),inplace=True)"
   ]
  },
  {
   "cell_type": "code",
   "execution_count": 16,
   "id": "f985ab07",
   "metadata": {},
   "outputs": [],
   "source": [
    "#Handle Duplicates\n",
    "df=df.drop_duplicates()"
   ]
  },
  {
   "cell_type": "code",
   "execution_count": 17,
   "id": "c955868d",
   "metadata": {},
   "outputs": [],
   "source": [
    "#Standardize column names\n",
    "df.columns=df.columns.str.lower().str.replace('','_')"
   ]
  },
  {
   "cell_type": "markdown",
   "id": "a4ef30d7",
   "metadata": {},
   "source": [
    "#Convert Data types\n",
    "# Convert to datetime\n",
    "df['date_column'] = pd.to_datetime(df['date_column'])\n",
    "\n",
    "# Convert to category\n",
    "df['category_column'] = df['category_column'].astype('category')\n",
    "\n",
    "# Convert numerical strings to floats\n",
    "df['numeric_column'] = pd.to_numeric(df['numeric_column'], errors='coerce')"
   ]
  },
  {
   "cell_type": "markdown",
   "id": "54303781",
   "metadata": {},
   "source": [
    "#Handle Outliers\n",
    "#Using Z scores:\n",
    "from scipy.stats import zscore\n",
    "df['zscore']=zscore(df['numeric_column'])\n",
    "df=df[df['zscore'].abs()<3] #Keep rows within 3 standard deviations"
   ]
  },
  {
   "cell_type": "markdown",
   "id": "74ee4cd4",
   "metadata": {},
   "source": [
    "10. Scale and Normalize Data\n",
    "Standardization (zero mean, unit variance):\n",
    "\n",
    "from sklearn.preprocessing import StandardScaler\n",
    "\n",
    "scaler = StandardScaler()\n",
    "df['scaled_column'] = scaler.fit_transform(df[['numeric_column']])\n"
   ]
  },
  {
   "cell_type": "markdown",
   "id": "1a2ac50b",
   "metadata": {},
   "source": [
    "Normalization (range 0-1):\n",
    "from sklearn.preprocessing import MinMaxScaler\n",
    "\n",
    "scaler = MinMaxScaler()\n",
    "df['normalized_column'] = scaler.fit_transform(df[['numeric_column']])\n",
    "\n",
    "    "
   ]
  },
  {
   "cell_type": "code",
   "execution_count": 20,
   "id": "663ea924",
   "metadata": {},
   "outputs": [],
   "source": [
    "#Save Clean data\n",
    "df.to_csv('cleaned_dataset.csv',index=False)"
   ]
  },
  {
   "cell_type": "code",
   "execution_count": null,
   "id": "4a864fdb",
   "metadata": {},
   "outputs": [],
   "source": []
  }
 ],
 "metadata": {
  "kernelspec": {
   "display_name": "Python 3 (ipykernel)",
   "language": "python",
   "name": "python3"
  },
  "language_info": {
   "codemirror_mode": {
    "name": "ipython",
    "version": 3
   },
   "file_extension": ".py",
   "mimetype": "text/x-python",
   "name": "python",
   "nbconvert_exporter": "python",
   "pygments_lexer": "ipython3",
   "version": "3.9.7"
  }
 },
 "nbformat": 4,
 "nbformat_minor": 5
}
