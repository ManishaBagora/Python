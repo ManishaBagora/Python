{
 "cells": [
  {
   "cell_type": "markdown",
   "id": "bf0c4c31",
   "metadata": {},
   "source": [
    "# Python Data Structure"
   ]
  },
  {
   "cell_type": "markdown",
   "id": "9122ba4d",
   "metadata": {},
   "source": [
    "## Array"
   ]
  },
  {
   "cell_type": "code",
   "execution_count": 12,
   "id": "891b8e4e",
   "metadata": {},
   "outputs": [
    {
     "name": "stdout",
     "output_type": "stream",
     "text": [
      "Array: [1, 2, 3, 4, 5]\n"
     ]
    }
   ],
   "source": [
    "#Creation of Array(Using a List)\n",
    "array=[1,2,3,4,5]\n",
    "print(\"Array:\",array)"
   ]
  },
  {
   "cell_type": "code",
   "execution_count": 14,
   "id": "eb242b24",
   "metadata": {},
   "outputs": [
    {
     "name": "stdout",
     "output_type": "stream",
     "text": [
      "Array Insertion: [1, 2, 99, 3, 4, 5]\n"
     ]
    }
   ],
   "source": [
    "#Insertion\n",
    "array.insert(2,99)\n",
    "print('Array Insertion:',array)"
   ]
  },
  {
   "cell_type": "code",
   "execution_count": 15,
   "id": "f948da81",
   "metadata": {},
   "outputs": [
    {
     "name": "stdout",
     "output_type": "stream",
     "text": [
      "NewArray [1, 2, 3, 4, 5]\n"
     ]
    }
   ],
   "source": [
    "#Deletion\n",
    "array.remove(99)\n",
    "print(\"NewArray\",array)"
   ]
  },
  {
   "cell_type": "code",
   "execution_count": 16,
   "id": "e5e79ac5",
   "metadata": {},
   "outputs": [
    {
     "name": "stdout",
     "output_type": "stream",
     "text": [
      "NewArray [1, 3, 4, 5]\n"
     ]
    }
   ],
   "source": [
    "del array[1]\n",
    "print('NewArray',array)"
   ]
  },
  {
   "cell_type": "code",
   "execution_count": 17,
   "id": "5863c113",
   "metadata": {},
   "outputs": [
    {
     "name": "stdout",
     "output_type": "stream",
     "text": [
      "1345"
     ]
    }
   ],
   "source": [
    "#Traversel\n",
    "for element in array:\n",
    "    print(element,end='')"
   ]
  },
  {
   "cell_type": "code",
   "execution_count": 19,
   "id": "5805b13b",
   "metadata": {},
   "outputs": [],
   "source": [
    "class Node:\n",
    "    def _init_(self,data):\n",
    "        self.data=data\n",
    "        self.next=None\n",
    "class LinkedList:\n",
    "    def _init_(self):\n",
    "        self.head=None\n",
    "        "
   ]
  },
  {
   "cell_type": "code",
   "execution_count": null,
   "id": "e48278f8",
   "metadata": {},
   "outputs": [],
   "source": [
    "#Insertion at the end\n",
    "def insert(self,data):\n",
    "    new_node=Node(data)\n",
    "    if not self.head:\n",
    "        self.head=new_node\n",
    "        return\n",
    "    last= self.head\n",
    "    while last"
   ]
  },
  {
   "cell_type": "code",
   "execution_count": 18,
   "id": "928e639a",
   "metadata": {},
   "outputs": [
    {
     "name": "stdout",
     "output_type": "stream",
     "text": [
      "Linked List after insertion:\n",
      "1 2 3 \n",
      "Linked List after deletion:\n",
      "1 3 "
     ]
    }
   ],
   "source": [
    "\n",
    "class Node:\n",
    "    def __init__(self, data):\n",
    "        self.data = data\n",
    "        self.next = None\n",
    "\n",
    "class LinkedList:\n",
    "    def __init__(self):\n",
    "        self.head = None\n",
    "\n",
    "    # Insertion at the end\n",
    "    def insert(self, data):\n",
    "        new_node = Node(data)\n",
    "        if not self.head:\n",
    "            self.head = new_node\n",
    "            return\n",
    "        last = self.head\n",
    "        while last.next:\n",
    "            last = last.next\n",
    "        last.next = new_node\n",
    "\n",
    "    # Deletion of a node by value\n",
    "    def delete(self, key):\n",
    "        temp = self.head\n",
    "\n",
    "        # If the head node itself holds the key\n",
    "        if temp and temp.data == key:\n",
    "            self.head = temp.next\n",
    "            temp = None\n",
    "            return\n",
    "\n",
    "        # Search for the key to be deleted\n",
    "        prev = None\n",
    "        while temp and temp.data != key:\n",
    "            prev = temp\n",
    "            temp = temp.next\n",
    "\n",
    "        # If the key was not present in the list\n",
    "        if temp is None:\n",
    "            return\n",
    "\n",
    "        # Unlink the node from the linked list\n",
    "        prev.next = temp.next\n",
    "        temp = None\n",
    "\n",
    "    # Traversal of the linked list\n",
    "    def traverse(self):\n",
    "        temp = self.head\n",
    "        while temp:\n",
    "            print(temp.data, end=\" \")\n",
    "            temp = temp.next\n",
    "\n",
    "# Example Usage\n",
    "llist = LinkedList()\n",
    "llist.insert(1)\n",
    "llist.insert(2)\n",
    "llist.insert(3)\n",
    "print(\"Linked List after insertion:\")\n",
    "llist.traverse()\n",
    "\n",
    "llist.delete(2)\n",
    "print(\"\\nLinked List after deletion:\")\n",
    "llist.traverse()\n"
   ]
  },
  {
   "cell_type": "code",
   "execution_count": null,
   "id": "faf369ba",
   "metadata": {},
   "outputs": [],
   "source": []
  }
 ],
 "metadata": {
  "kernelspec": {
   "display_name": "Python 3 (ipykernel)",
   "language": "python",
   "name": "python3"
  },
  "language_info": {
   "codemirror_mode": {
    "name": "ipython",
    "version": 3
   },
   "file_extension": ".py",
   "mimetype": "text/x-python",
   "name": "python",
   "nbconvert_exporter": "python",
   "pygments_lexer": "ipython3",
   "version": "3.9.7"
  }
 },
 "nbformat": 4,
 "nbformat_minor": 5
}
